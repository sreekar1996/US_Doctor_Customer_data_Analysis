{
 "cells": [
  {
   "cell_type": "code",
   "execution_count": 33,
   "metadata": {},
   "outputs": [],
   "source": [
    "import pandas as pd\n",
    "import matplotlib.pyplot as plt\n",
    "import seaborn as sns"
   ]
  },
  {
   "cell_type": "code",
   "execution_count": 14,
   "metadata": {},
   "outputs": [],
   "source": [
    "data=pd.read_excel(\"Data_Science_Assignment.xlsx\",sheetname=\"Customer_Data\", skiprows=2)"
   ]
  },
  {
   "cell_type": "code",
   "execution_count": 16,
   "metadata": {},
   "outputs": [
    {
     "data": {
      "text/html": [
       "<div>\n",
       "<style scoped>\n",
       "    .dataframe tbody tr th:only-of-type {\n",
       "        vertical-align: middle;\n",
       "    }\n",
       "\n",
       "    .dataframe tbody tr th {\n",
       "        vertical-align: top;\n",
       "    }\n",
       "\n",
       "    .dataframe thead th {\n",
       "        text-align: right;\n",
       "    }\n",
       "</style>\n",
       "<table border=\"1\" class=\"dataframe\">\n",
       "  <thead>\n",
       "    <tr style=\"text-align: right;\">\n",
       "      <th></th>\n",
       "      <th>Unnamed: 0</th>\n",
       "      <th>Customer ID</th>\n",
       "      <th>Title</th>\n",
       "      <th>Specialty Code</th>\n",
       "      <th>Specialty Description</th>\n",
       "      <th>State</th>\n",
       "      <th>Region</th>\n",
       "      <th>Call Attempts</th>\n",
       "      <th>Calls Successfully Completed</th>\n",
       "      <th>Emails Sent</th>\n",
       "      <th>Emails Opened</th>\n",
       "      <th>Faxes Sent</th>\n",
       "      <th>Brand 1 Sales (Company's Brand)</th>\n",
       "      <th>Brand 2 Sales (Competitor Brand)</th>\n",
       "      <th>Total Branded Market Sales</th>\n",
       "      <th>Total Market (Branded + Unbranded) Sales</th>\n",
       "    </tr>\n",
       "  </thead>\n",
       "  <tbody>\n",
       "    <tr>\n",
       "      <th>0</th>\n",
       "      <td>NaN</td>\n",
       "      <td>IND000001</td>\n",
       "      <td>MD</td>\n",
       "      <td>FM</td>\n",
       "      <td>FAMILY MEDICINE</td>\n",
       "      <td>SC</td>\n",
       "      <td>South Region</td>\n",
       "      <td>1</td>\n",
       "      <td>0</td>\n",
       "      <td>13</td>\n",
       "      <td>6</td>\n",
       "      <td>8</td>\n",
       "      <td>8.0</td>\n",
       "      <td>NaN</td>\n",
       "      <td>27</td>\n",
       "      <td>131</td>\n",
       "    </tr>\n",
       "    <tr>\n",
       "      <th>1</th>\n",
       "      <td>NaN</td>\n",
       "      <td>IND000002</td>\n",
       "      <td>MD</td>\n",
       "      <td>CD</td>\n",
       "      <td>CARDIOVASCULAR DISEASES</td>\n",
       "      <td>SC</td>\n",
       "      <td>South Region</td>\n",
       "      <td>1</td>\n",
       "      <td>0</td>\n",
       "      <td>15</td>\n",
       "      <td>8</td>\n",
       "      <td>6</td>\n",
       "      <td>3.0</td>\n",
       "      <td>NaN</td>\n",
       "      <td>40</td>\n",
       "      <td>56</td>\n",
       "    </tr>\n",
       "    <tr>\n",
       "      <th>2</th>\n",
       "      <td>NaN</td>\n",
       "      <td>IND000003</td>\n",
       "      <td>MD</td>\n",
       "      <td>IM</td>\n",
       "      <td>INTERNAL MEDICINE</td>\n",
       "      <td>AL</td>\n",
       "      <td>South Region</td>\n",
       "      <td>2</td>\n",
       "      <td>1</td>\n",
       "      <td>4</td>\n",
       "      <td>2</td>\n",
       "      <td>6</td>\n",
       "      <td>7.0</td>\n",
       "      <td>NaN</td>\n",
       "      <td>27</td>\n",
       "      <td>161</td>\n",
       "    </tr>\n",
       "    <tr>\n",
       "      <th>3</th>\n",
       "      <td>NaN</td>\n",
       "      <td>IND000004</td>\n",
       "      <td>MD</td>\n",
       "      <td>FM</td>\n",
       "      <td>FAMILY MEDICINE</td>\n",
       "      <td>AL</td>\n",
       "      <td>South Region</td>\n",
       "      <td>0</td>\n",
       "      <td>0</td>\n",
       "      <td>11</td>\n",
       "      <td>9</td>\n",
       "      <td>8</td>\n",
       "      <td>9.0</td>\n",
       "      <td>NaN</td>\n",
       "      <td>39</td>\n",
       "      <td>180</td>\n",
       "    </tr>\n",
       "    <tr>\n",
       "      <th>4</th>\n",
       "      <td>NaN</td>\n",
       "      <td>IND000005</td>\n",
       "      <td>MD</td>\n",
       "      <td>CD</td>\n",
       "      <td>CARDIOVASCULAR DISEASES</td>\n",
       "      <td>AL</td>\n",
       "      <td>South Region</td>\n",
       "      <td>5</td>\n",
       "      <td>5</td>\n",
       "      <td>0</td>\n",
       "      <td>0</td>\n",
       "      <td>9</td>\n",
       "      <td>4.0</td>\n",
       "      <td>NaN</td>\n",
       "      <td>14</td>\n",
       "      <td>44</td>\n",
       "    </tr>\n",
       "    <tr>\n",
       "      <th>5</th>\n",
       "      <td>NaN</td>\n",
       "      <td>IND000006</td>\n",
       "      <td>MD</td>\n",
       "      <td>END</td>\n",
       "      <td>ENDOCRINOLOGY</td>\n",
       "      <td>AL</td>\n",
       "      <td>South Region</td>\n",
       "      <td>0</td>\n",
       "      <td>0</td>\n",
       "      <td>8</td>\n",
       "      <td>1</td>\n",
       "      <td>9</td>\n",
       "      <td>2.0</td>\n",
       "      <td>NaN</td>\n",
       "      <td>9</td>\n",
       "      <td>36</td>\n",
       "    </tr>\n",
       "    <tr>\n",
       "      <th>6</th>\n",
       "      <td>NaN</td>\n",
       "      <td>IND000007</td>\n",
       "      <td>MD</td>\n",
       "      <td>IM</td>\n",
       "      <td>INTERNAL MEDICINE</td>\n",
       "      <td>TN</td>\n",
       "      <td>South Region</td>\n",
       "      <td>2</td>\n",
       "      <td>1</td>\n",
       "      <td>16</td>\n",
       "      <td>9</td>\n",
       "      <td>3</td>\n",
       "      <td>6.0</td>\n",
       "      <td>2.0</td>\n",
       "      <td>26</td>\n",
       "      <td>298</td>\n",
       "    </tr>\n",
       "    <tr>\n",
       "      <th>7</th>\n",
       "      <td>NaN</td>\n",
       "      <td>IND000008</td>\n",
       "      <td>MD</td>\n",
       "      <td>FM</td>\n",
       "      <td>FAMILY MEDICINE</td>\n",
       "      <td>TX</td>\n",
       "      <td>South Region</td>\n",
       "      <td>2</td>\n",
       "      <td>0</td>\n",
       "      <td>1</td>\n",
       "      <td>0</td>\n",
       "      <td>9</td>\n",
       "      <td>1.0</td>\n",
       "      <td>2.0</td>\n",
       "      <td>29</td>\n",
       "      <td>31</td>\n",
       "    </tr>\n",
       "    <tr>\n",
       "      <th>8</th>\n",
       "      <td>NaN</td>\n",
       "      <td>IND000009</td>\n",
       "      <td>MD</td>\n",
       "      <td>FM</td>\n",
       "      <td>FAMILY MEDICINE</td>\n",
       "      <td>LA</td>\n",
       "      <td>South Region</td>\n",
       "      <td>4</td>\n",
       "      <td>2</td>\n",
       "      <td>4</td>\n",
       "      <td>3</td>\n",
       "      <td>10</td>\n",
       "      <td>11.0</td>\n",
       "      <td>NaN</td>\n",
       "      <td>38</td>\n",
       "      <td>217</td>\n",
       "    </tr>\n",
       "    <tr>\n",
       "      <th>9</th>\n",
       "      <td>NaN</td>\n",
       "      <td>IND000010</td>\n",
       "      <td>MD</td>\n",
       "      <td>IM</td>\n",
       "      <td>INTERNAL MEDICINE</td>\n",
       "      <td>AL</td>\n",
       "      <td>South Region</td>\n",
       "      <td>3</td>\n",
       "      <td>2</td>\n",
       "      <td>18</td>\n",
       "      <td>9</td>\n",
       "      <td>6</td>\n",
       "      <td>7.0</td>\n",
       "      <td>3.0</td>\n",
       "      <td>49</td>\n",
       "      <td>227</td>\n",
       "    </tr>\n",
       "  </tbody>\n",
       "</table>\n",
       "</div>"
      ],
      "text/plain": [
       "   Unnamed: 0 Customer ID Title Specialty Code    Specialty Description State  \\\n",
       "0         NaN   IND000001    MD             FM          FAMILY MEDICINE    SC   \n",
       "1         NaN   IND000002    MD             CD  CARDIOVASCULAR DISEASES    SC   \n",
       "2         NaN   IND000003    MD             IM        INTERNAL MEDICINE    AL   \n",
       "3         NaN   IND000004    MD             FM          FAMILY MEDICINE    AL   \n",
       "4         NaN   IND000005    MD             CD  CARDIOVASCULAR DISEASES    AL   \n",
       "5         NaN   IND000006    MD            END            ENDOCRINOLOGY    AL   \n",
       "6         NaN   IND000007    MD             IM        INTERNAL MEDICINE    TN   \n",
       "7         NaN   IND000008    MD             FM          FAMILY MEDICINE    TX   \n",
       "8         NaN   IND000009    MD             FM          FAMILY MEDICINE    LA   \n",
       "9         NaN   IND000010    MD             IM        INTERNAL MEDICINE    AL   \n",
       "\n",
       "         Region  Call Attempts  Calls Successfully Completed  Emails Sent  \\\n",
       "0  South Region              1                             0           13   \n",
       "1  South Region              1                             0           15   \n",
       "2  South Region              2                             1            4   \n",
       "3  South Region              0                             0           11   \n",
       "4  South Region              5                             5            0   \n",
       "5  South Region              0                             0            8   \n",
       "6  South Region              2                             1           16   \n",
       "7  South Region              2                             0            1   \n",
       "8  South Region              4                             2            4   \n",
       "9  South Region              3                             2           18   \n",
       "\n",
       "   Emails Opened  Faxes Sent  Brand 1 Sales (Company's Brand)  \\\n",
       "0              6           8                              8.0   \n",
       "1              8           6                              3.0   \n",
       "2              2           6                              7.0   \n",
       "3              9           8                              9.0   \n",
       "4              0           9                              4.0   \n",
       "5              1           9                              2.0   \n",
       "6              9           3                              6.0   \n",
       "7              0           9                              1.0   \n",
       "8              3          10                             11.0   \n",
       "9              9           6                              7.0   \n",
       "\n",
       "   Brand 2 Sales (Competitor Brand)  Total Branded Market Sales  \\\n",
       "0                               NaN                          27   \n",
       "1                               NaN                          40   \n",
       "2                               NaN                          27   \n",
       "3                               NaN                          39   \n",
       "4                               NaN                          14   \n",
       "5                               NaN                           9   \n",
       "6                               2.0                          26   \n",
       "7                               2.0                          29   \n",
       "8                               NaN                          38   \n",
       "9                               3.0                          49   \n",
       "\n",
       "   Total Market (Branded + Unbranded) Sales  \n",
       "0                                       131  \n",
       "1                                        56  \n",
       "2                                       161  \n",
       "3                                       180  \n",
       "4                                        44  \n",
       "5                                        36  \n",
       "6                                       298  \n",
       "7                                        31  \n",
       "8                                       217  \n",
       "9                                       227  "
      ]
     },
     "execution_count": 16,
     "metadata": {},
     "output_type": "execute_result"
    }
   ],
   "source": [
    "data.head(10)"
   ]
  },
  {
   "cell_type": "code",
   "execution_count": 17,
   "metadata": {},
   "outputs": [],
   "source": [
    "data1=data.drop(labels=\"Unnamed: 0\",axis=1)"
   ]
  },
  {
   "cell_type": "code",
   "execution_count": 18,
   "metadata": {},
   "outputs": [
    {
     "data": {
      "text/html": [
       "<div>\n",
       "<style scoped>\n",
       "    .dataframe tbody tr th:only-of-type {\n",
       "        vertical-align: middle;\n",
       "    }\n",
       "\n",
       "    .dataframe tbody tr th {\n",
       "        vertical-align: top;\n",
       "    }\n",
       "\n",
       "    .dataframe thead th {\n",
       "        text-align: right;\n",
       "    }\n",
       "</style>\n",
       "<table border=\"1\" class=\"dataframe\">\n",
       "  <thead>\n",
       "    <tr style=\"text-align: right;\">\n",
       "      <th></th>\n",
       "      <th>Customer ID</th>\n",
       "      <th>Title</th>\n",
       "      <th>Specialty Code</th>\n",
       "      <th>Specialty Description</th>\n",
       "      <th>State</th>\n",
       "      <th>Region</th>\n",
       "      <th>Call Attempts</th>\n",
       "      <th>Calls Successfully Completed</th>\n",
       "      <th>Emails Sent</th>\n",
       "      <th>Emails Opened</th>\n",
       "      <th>Faxes Sent</th>\n",
       "      <th>Brand 1 Sales (Company's Brand)</th>\n",
       "      <th>Brand 2 Sales (Competitor Brand)</th>\n",
       "      <th>Total Branded Market Sales</th>\n",
       "      <th>Total Market (Branded + Unbranded) Sales</th>\n",
       "    </tr>\n",
       "  </thead>\n",
       "  <tbody>\n",
       "    <tr>\n",
       "      <th>0</th>\n",
       "      <td>IND000001</td>\n",
       "      <td>MD</td>\n",
       "      <td>FM</td>\n",
       "      <td>FAMILY MEDICINE</td>\n",
       "      <td>SC</td>\n",
       "      <td>South Region</td>\n",
       "      <td>1</td>\n",
       "      <td>0</td>\n",
       "      <td>13</td>\n",
       "      <td>6</td>\n",
       "      <td>8</td>\n",
       "      <td>8.0</td>\n",
       "      <td>NaN</td>\n",
       "      <td>27</td>\n",
       "      <td>131</td>\n",
       "    </tr>\n",
       "    <tr>\n",
       "      <th>1</th>\n",
       "      <td>IND000002</td>\n",
       "      <td>MD</td>\n",
       "      <td>CD</td>\n",
       "      <td>CARDIOVASCULAR DISEASES</td>\n",
       "      <td>SC</td>\n",
       "      <td>South Region</td>\n",
       "      <td>1</td>\n",
       "      <td>0</td>\n",
       "      <td>15</td>\n",
       "      <td>8</td>\n",
       "      <td>6</td>\n",
       "      <td>3.0</td>\n",
       "      <td>NaN</td>\n",
       "      <td>40</td>\n",
       "      <td>56</td>\n",
       "    </tr>\n",
       "    <tr>\n",
       "      <th>2</th>\n",
       "      <td>IND000003</td>\n",
       "      <td>MD</td>\n",
       "      <td>IM</td>\n",
       "      <td>INTERNAL MEDICINE</td>\n",
       "      <td>AL</td>\n",
       "      <td>South Region</td>\n",
       "      <td>2</td>\n",
       "      <td>1</td>\n",
       "      <td>4</td>\n",
       "      <td>2</td>\n",
       "      <td>6</td>\n",
       "      <td>7.0</td>\n",
       "      <td>NaN</td>\n",
       "      <td>27</td>\n",
       "      <td>161</td>\n",
       "    </tr>\n",
       "    <tr>\n",
       "      <th>3</th>\n",
       "      <td>IND000004</td>\n",
       "      <td>MD</td>\n",
       "      <td>FM</td>\n",
       "      <td>FAMILY MEDICINE</td>\n",
       "      <td>AL</td>\n",
       "      <td>South Region</td>\n",
       "      <td>0</td>\n",
       "      <td>0</td>\n",
       "      <td>11</td>\n",
       "      <td>9</td>\n",
       "      <td>8</td>\n",
       "      <td>9.0</td>\n",
       "      <td>NaN</td>\n",
       "      <td>39</td>\n",
       "      <td>180</td>\n",
       "    </tr>\n",
       "    <tr>\n",
       "      <th>4</th>\n",
       "      <td>IND000005</td>\n",
       "      <td>MD</td>\n",
       "      <td>CD</td>\n",
       "      <td>CARDIOVASCULAR DISEASES</td>\n",
       "      <td>AL</td>\n",
       "      <td>South Region</td>\n",
       "      <td>5</td>\n",
       "      <td>5</td>\n",
       "      <td>0</td>\n",
       "      <td>0</td>\n",
       "      <td>9</td>\n",
       "      <td>4.0</td>\n",
       "      <td>NaN</td>\n",
       "      <td>14</td>\n",
       "      <td>44</td>\n",
       "    </tr>\n",
       "  </tbody>\n",
       "</table>\n",
       "</div>"
      ],
      "text/plain": [
       "  Customer ID Title Specialty Code    Specialty Description State  \\\n",
       "0   IND000001    MD             FM          FAMILY MEDICINE    SC   \n",
       "1   IND000002    MD             CD  CARDIOVASCULAR DISEASES    SC   \n",
       "2   IND000003    MD             IM        INTERNAL MEDICINE    AL   \n",
       "3   IND000004    MD             FM          FAMILY MEDICINE    AL   \n",
       "4   IND000005    MD             CD  CARDIOVASCULAR DISEASES    AL   \n",
       "\n",
       "         Region  Call Attempts  Calls Successfully Completed  Emails Sent  \\\n",
       "0  South Region              1                             0           13   \n",
       "1  South Region              1                             0           15   \n",
       "2  South Region              2                             1            4   \n",
       "3  South Region              0                             0           11   \n",
       "4  South Region              5                             5            0   \n",
       "\n",
       "   Emails Opened  Faxes Sent  Brand 1 Sales (Company's Brand)  \\\n",
       "0              6           8                              8.0   \n",
       "1              8           6                              3.0   \n",
       "2              2           6                              7.0   \n",
       "3              9           8                              9.0   \n",
       "4              0           9                              4.0   \n",
       "\n",
       "   Brand 2 Sales (Competitor Brand)  Total Branded Market Sales  \\\n",
       "0                               NaN                          27   \n",
       "1                               NaN                          40   \n",
       "2                               NaN                          27   \n",
       "3                               NaN                          39   \n",
       "4                               NaN                          14   \n",
       "\n",
       "   Total Market (Branded + Unbranded) Sales  \n",
       "0                                       131  \n",
       "1                                        56  \n",
       "2                                       161  \n",
       "3                                       180  \n",
       "4                                        44  "
      ]
     },
     "execution_count": 18,
     "metadata": {},
     "output_type": "execute_result"
    }
   ],
   "source": [
    "data1.head()"
   ]
  },
  {
   "cell_type": "code",
   "execution_count": 21,
   "metadata": {},
   "outputs": [
    {
     "data": {
      "text/plain": [
       "Customer ID                                  object\n",
       "Title                                        object\n",
       "Specialty Code                               object\n",
       "Specialty Description                        object\n",
       "State                                        object\n",
       "Region                                       object\n",
       "Call Attempts                                 int64\n",
       "Calls Successfully Completed                  int64\n",
       "Emails Sent                                   int64\n",
       "Emails Opened                                 int64\n",
       "Faxes Sent                                    int64\n",
       "Brand 1 Sales (Company's Brand)             float64\n",
       "Brand 2 Sales (Competitor Brand)            float64\n",
       "Total Branded Market Sales                    int64\n",
       "Total Market (Branded + Unbranded) Sales      int64\n",
       "dtype: object"
      ]
     },
     "execution_count": 21,
     "metadata": {},
     "output_type": "execute_result"
    }
   ],
   "source": [
    "data1.dtypes"
   ]
  },
  {
   "cell_type": "code",
   "execution_count": 22,
   "metadata": {},
   "outputs": [
    {
     "data": {
      "text/plain": [
       "(77641, 15)"
      ]
     },
     "execution_count": 22,
     "metadata": {},
     "output_type": "execute_result"
    }
   ],
   "source": [
    "data1.shape"
   ]
  },
  {
   "cell_type": "code",
   "execution_count": 28,
   "metadata": {},
   "outputs": [
    {
     "data": {
      "text/plain": [
       "Customer ID                                     0\n",
       "Title                                           0\n",
       "Specialty Code                                  0\n",
       "Specialty Description                           0\n",
       "State                                           0\n",
       "Region                                       1361\n",
       "Call Attempts                                   0\n",
       "Calls Successfully Completed                    0\n",
       "Emails Sent                                     0\n",
       "Emails Opened                                   0\n",
       "Faxes Sent                                      0\n",
       "Brand 1 Sales (Company's Brand)                52\n",
       "Brand 2 Sales (Competitor Brand)            43795\n",
       "Total Branded Market Sales                      0\n",
       "Total Market (Branded + Unbranded) Sales        0\n",
       "dtype: int64"
      ]
     },
     "execution_count": 28,
     "metadata": {},
     "output_type": "execute_result"
    }
   ],
   "source": [
    "data1.isnull().sum()"
   ]
  },
  {
   "cell_type": "code",
   "execution_count": 29,
   "metadata": {},
   "outputs": [
    {
     "data": {
      "text/plain": [
       "Customer ID                                  0.000\n",
       "Title                                        0.000\n",
       "Specialty Code                               0.000\n",
       "Specialty Description                        0.000\n",
       "State                                        0.000\n",
       "Region                                       1.753\n",
       "Call Attempts                                0.000\n",
       "Calls Successfully Completed                 0.000\n",
       "Emails Sent                                  0.000\n",
       "Emails Opened                                0.000\n",
       "Faxes Sent                                   0.000\n",
       "Brand 1 Sales (Company's Brand)              0.067\n",
       "Brand 2 Sales (Competitor Brand)            56.407\n",
       "Total Branded Market Sales                   0.000\n",
       "Total Market (Branded + Unbranded) Sales     0.000\n",
       "dtype: float64"
      ]
     },
     "execution_count": 29,
     "metadata": {},
     "output_type": "execute_result"
    }
   ],
   "source": [
    "## checking if there any null values\n",
    "round((data1.isnull().sum()/len(data))*100,3)"
   ]
  },
  {
   "cell_type": "code",
   "execution_count": null,
   "metadata": {},
   "outputs": [],
   "source": [
    "## understanding the data"
   ]
  },
  {
   "cell_type": "code",
   "execution_count": 32,
   "metadata": {},
   "outputs": [
    {
     "name": "stdout",
     "output_type": "stream",
     "text": [
      "Customer ID\n",
      "['IND000001' 'IND000002' 'IND000003' ... 'IND077639' 'IND077640'\n",
      " 'IND077641']\n",
      "77641\n",
      "_______________________________\n",
      "Title\n",
      "['MD' 'DO' 'PA' 'PAC' 'NP' 'FNP' 'MSN' 'ANP' 'APN' 'MPA' 'APR' 'MMS' 'CNM'\n",
      " 'MS' 'RNB' 'NPC' 'GNP' 'ARN' 'DNP' 'CRN' 'DPM' 'DMD' 'DDS' 'DVM' 'PC'\n",
      " 'VMD' 'MPH' 'RPA' 'RN' 'RNP' 'BC' 'CNP' 'MSP' 'PRA' 'NUR' 'CFN' 'MN'\n",
      " 'PHD' 'AGP' 'NPF' 'OD' 'PHA' 'MBA' 'NMD' 'PMH' 'BS' 'AGN' 'CNS' 'AGA'\n",
      " 'BCF' 'BSM' 'PAN' 'CS' 'MNF' 'NPB' 'ND']\n",
      "56\n",
      "_______________________________\n",
      "Specialty Code\n",
      "['FM' 'CD' 'IM' 'END' 'D' 'TS' 'HO' 'MPD' 'IC' 'GE' 'PCC' 'HPM' 'FSM' 'ID'\n",
      " 'IMG' 'UNK' 'DIA' 'GP' 'PDC' 'PUD' 'EM' 'OBG' 'NEP' 'GS' 'ICE' 'P' 'PD'\n",
      " 'NM' 'FPG' 'DR' 'RHU' 'UCM' 'OS' 'MEM' 'PM' 'R' 'OTO' 'FP' 'MPM' 'N' 'AN'\n",
      " 'OPH' 'ORS' 'U' 'CHP' 'PTH' 'SME' 'PMM' 'HEM' 'AI' 'GYN' 'NS' 'CS' 'GPM'\n",
      " 'OM' 'MP' 'FPP' 'PDS' 'AM' 'OMM' 'ON' 'PN' 'HS' 'HSO' 'A' 'ISM' 'HOS'\n",
      " 'CCM' 'PME' 'SMI' 'HPE' 'AHF' 'PDE' 'LM' 'VS' 'PDI' 'CHN' 'IFP' 'HEP'\n",
      " 'CCA' 'IG' 'ADL' 'PG' 'ADM' 'OBS' 'MDM' 'FMP' 'HPI' 'PAN' 'FPS' 'PHP'\n",
      " 'PS' 'UP' 'PDR' 'PPN' 'OSS' 'TTS' 'OP' 'ETX' 'THP' 'NPM' 'PTX' 'EFM'\n",
      " 'OSM' 'PPM' 'PEM' 'DMP' 'ESM' 'NC' 'ADP' 'GO' 'VSI' 'RO' 'NMP' 'IMA'\n",
      " 'PYG' 'PHL' 'AMI' 'PA' 'VIR' 'IPM' 'PRO' 'BBK' 'NUP' 'MG' 'PHO' 'NTR'\n",
      " 'APM' 'FLX' 'VN' 'CHS' 'PSM' 'CN' 'CRS' 'CCP' 'ATP' 'SCI' 'CLI' 'HMP']\n",
      "139\n",
      "_______________________________\n",
      "Specialty Description\n",
      "['FAMILY MEDICINE' 'CARDIOVASCULAR DISEASES' 'INTERNAL MEDICINE'\n",
      " 'ENDOCRINOLOGY' 'DERMATOLOGY' 'THORACIC SURGERY' 'HEMATOLOGY/ONCOLOGY'\n",
      " 'INTERNAL MEDICINE/PEDIATRICS' 'GASTROENTEROLOGY'\n",
      " 'PULMONARY CRITICAL CARE MEDICINE' 'HOSPICE PALLIATIVE MEDICINE'\n",
      " 'FAMILY PRACTICE, SPORTS MEDICINE' 'INFECTIOUS DISEASES'\n",
      " 'INTERNAL MEDICINE, GERIATRICS' 'UNKNOWN' 'DIABETES' 'GENERAL PRACTICE'\n",
      " 'PEDIATRIC CARDIOLOGY' 'PULMONARY DISEASES' 'EMERGENCY MEDICINE'\n",
      " 'OBSTETRICS AND GYNECOLOGY' 'NEPHROLOGY' 'GENERAL SURGERY'\n",
      " 'INTERNAL MED, CARD. ELECTROPHYSIOLOGY' 'PSYCHIATRY' 'PEDIATRICS'\n",
      " 'NUCLEAR MEDICINE' 'FAMILY PRACTICE, GERIATRIC MEDICINE'\n",
      " 'DIAGNOSTIC RADIOLOGY' 'RHEUMATOLOGY' 'OTHER SPECIALTY'\n",
      " 'INTERNAL MEDICINE/EMERGENCY MEDICINE'\n",
      " 'PHYSICAL MEDICINE & REHABILITATION' 'RADIOLOGY' 'OTOLARYNGOLOGY'\n",
      " 'FAMILY PRACTICE'\n",
      " 'INTERNAL MEDICINE/PHYSICAL MEDICINE AND REHABILITATION' 'NEUROLOGY'\n",
      " 'ANESTHESIOLOGY' 'OPHTHALMOLOGY' 'ORTHOPEDIC SURGERY'\n",
      " 'UROLOGICAL SURGERY' 'CHILD PSYCHIATRY' 'PATHOLOGY, ANATOMIC/CLINICAL'\n",
      " 'SLEEP MEDICINE' 'PAIN MEDICINE' 'HEMATOLOGY' 'ALLERGY AND IMMUNOLOGY'\n",
      " 'GYNECOLOGY' 'NEUROLOGICAL SURGERY' 'GENERAL PREVENTIVE MEDICINE'\n",
      " 'OCCUPATIONAL MEDICINE' 'INTERNAL MEDICINE/PSYCHIATRY'\n",
      " 'FAMILY PRACTICE/PSYCHIATRY' 'PEDIATRIC SURGERY' 'AEROSPACE MEDICINE'\n",
      " 'OSTEOPATHIC MANIPULATIVE MEDICINE' 'ONCOLOGY MEDICAL'\n",
      " 'PEDIATRIC NEPHROLOGY' 'SURGERY,HAND SURGERY'\n",
      " 'HAND SURGERY, ORTHOPEDIC SURGERY' 'ALLERGY'\n",
      " 'INTERNAL MEDICINE, SPORTS MEDICINE' 'HOSPITALIST'\n",
      " 'CRITICAL CARE MEDICINE' 'ANESTHESIOLOGY, PAIN MEDICINE'\n",
      " 'PEDIATRIC ENDOCRINOLOGY' 'LEGAL MEDICINE' 'VASCULAR SURGERY'\n",
      " 'PEDIATRIC INFECTIOUS DISEASES' 'CHILD NEUROLOGY' 'HEPATOLOGY'\n",
      " 'ANESTHESIOLOGY, CRITICAL CARE MEDICINE' 'IMMUNOLOGY'\n",
      " 'ADOLESCENT MEDICINE' 'PEDIATRIC GASTROENTEROLOGY' 'ADDICTION MEDICINE'\n",
      " 'OBSTETRICS' 'MEDICAL MANAGEMENT'\n",
      " 'FACIAL PLASTIC SURGERY, OTOLARYNGOLOGY' 'PUBLIC HEALTH'\n",
      " 'PLASTIC SURGERY' 'PEDIATRIC UROLOGY' 'PEDIATRIC RADIOLOGY'\n",
      " 'ORTHOPEDIC SURGERY OF THE SPINE' 'TRANSPLANT SURGERY'\n",
      " 'ORTHOPEDIC SURG, PEDIATRIC ORTHOPEDICS' 'MEDICAL TOXICOLOGY(EM)'\n",
      " 'NEONATAL-PERINATAL MEDICINE'\n",
      " 'MEDICAL TOXICOLOGY (PREVENTATIVE MEDICINE)'\n",
      " 'ORTHOPEDIC SURG, SPORTS MEDICINE'\n",
      " 'PEDIATRICS/PHYSICAL MEDICINE AND REHABILITATION'\n",
      " 'PEDIATRIC EMERGENCY MEDICINE' 'DERMATOPATHOLOGY'\n",
      " 'EMERGENCY MEDICINE, SPORTS MEDICINE' 'NUCLEAR CARDIOLOGY'\n",
      " 'ADDICTION PSYCHIATRY' 'GYNECOLOGICAL ONCOLOGY' 'RADIOLOGY ONCOLOGY'\n",
      " 'GERIATRIC PSYCHIATRY' 'PHLEBOLOGY'\n",
      " 'ADOLESCENT MEDICINE (INTERNAL MEDICINE)' 'PHARMACOLOGY'\n",
      " 'VASCULAR AND INTERVENTIONAL RADIOLOGY'\n",
      " 'INTERNAL MEDICINE/PREVENTIVE MEDICINE' 'PROCTOLOGY'\n",
      " 'PATHOLOGY, BLOOD BANKING' 'MEDICAL GENETICS'\n",
      " 'PEDIATRIC HEMATOLOGY ONCOLOGY' 'NUTRITION'\n",
      " 'FLEXIBLE SPECIALTY (RESIDENTS ONLY)' 'PEDIATRIC SPORTS MEDICINE'\n",
      " 'NEUROPHYSIOLOGY, CLIN.' 'COLON AND RECTAL SURGERY'\n",
      " 'PEDIATRIC CRITICAL CARE MEDICINE' 'ANATOMIC PATHOLOGY'\n",
      " 'SPINAL CORD INJURY (PHYSICAL MEDICINE & REHABILITATION)'\n",
      " 'CLINICAL INFORMATICS' 'PATHOLOGY, HEMATOLOGY']\n",
      "119\n",
      "_______________________________\n",
      "State\n",
      "['SC' 'AL' 'TN' 'TX' 'LA' 'MA' 'FL' 'IA' 'VA' 'GA' 'MS' 'MD' 'NC' 'KY'\n",
      " 'KS' 'ID' 'CT' 'CA' 'NV' 'OH' 'NM' 'UT' 'SD' 'AR' 'AZ' 'MT' 'WA' 'WV'\n",
      " 'PA' 'IN' 'WI' 'NY' 'MO' 'HI' 'CO' 'OR' 'AK' 'IL' 'MN' 'NH' 'MI' 'OK'\n",
      " 'WY' 'NJ' 'ME' 'NE' 'PR' 'DE' 'ND' 'DC' 'RI' 'VT' 'AP' 'AE' 'VI']\n",
      "55\n",
      "_______________________________\n",
      "Region\n",
      "['South Region' 'Northeast Region' 'Midwest Region' 'West Region' nan]\n",
      "5\n",
      "_______________________________\n",
      "Call Attempts\n",
      "[1 2 0 5 4 3]\n",
      "6\n",
      "_______________________________\n",
      "Calls Successfully Completed\n",
      "[0 1 5 2 4 3]\n",
      "6\n",
      "_______________________________\n",
      "Emails Sent\n",
      "[13 15  4 11  0  8 16  1 18 10  7  2 20  3 14 12  9  5 17  6 19]\n",
      "21\n",
      "_______________________________\n",
      "Emails Opened\n",
      "[ 6  8  2  9  0  1  3 11  5 10  4 20 15 18 16  7 13 12 14 17 19]\n",
      "21\n",
      "_______________________________\n",
      "Faxes Sent\n",
      "[ 8  6  9  3 10  1  4  7  2  5]\n",
      "10\n",
      "_______________________________\n",
      "Brand 1 Sales (Company's Brand)\n",
      "[ 8.  3.  7.  9.  4.  2.  6.  1. 11.  5. 12. 10. nan 13. 66.  0. 62. 68.\n",
      " 69. 61. 65. 41. 64. 60. 70. 50. 45. 63. 43. 40. 67. 14. 35. 33. 31. 34.\n",
      " 30. 32. 47. 15.]\n",
      "40\n",
      "_______________________________\n",
      "Brand 2 Sales (Competitor Brand)\n",
      "[ nan   2.   3.   0.   1.   4.   5.   9.   8.   6.  17.  11.  13.  12.\n",
      "  21.  16.  14.   7.  10.  22.  15.  20.  18.  30.  19.  55.  27.  57.\n",
      "  35.  43.  79.  28. 101.  50.  39.  93.  38.  92.  24.  23. 171.  90.\n",
      "  56.  32.  31. 370.  78. 145.  59.  67. 159. 150.  34. 127.  29.  36.\n",
      "  45.  40.  26.  25.  42.  97.  51.]\n",
      "63\n",
      "_______________________________\n",
      "Total Branded Market Sales\n",
      "[ 27  40  39  14   9  26  29  38  49  43   7  33  41  31  19  20  48  13\n",
      "  45   8  18  37  50  42  21  25  22  10  52  24  28  44  35   5  30  15\n",
      "  53  36  55  46   4  17  16  54  51  11  34  32  12  47  60   6  58  23\n",
      "  57   2   1  56  59  61   3  73  75  79  74  77  80  99 104  63  84  62\n",
      "  85 112  93 103 119  69  65  70 113 111  66  91 102  78  86 109  82  90\n",
      "  64  67  98  68  71  89 135 126 191 137 397 122 197  88  83 178 194 161\n",
      "  87 139  72  76  96]\n",
      "113\n",
      "_______________________________\n",
      "Total Market (Branded + Unbranded) Sales\n",
      "[ 131   56  161  180   44   36  298   31  217  227    4  151   23   42\n",
      "  255    0   27  247  201   49   40   28  160   10  380   72   58  173\n",
      "   12   13  163   53  143  125   78  367   29  208  146  111  376   39\n",
      "  286   18  279  269   19   47   43   70   55   80   16   83  145  823\n",
      "  309   93  101  122   97  282   96   62   54  130   45   22   66   65\n",
      "   17  250   59   15  123   63    7  157   57   61   90   60  272    8\n",
      "   25   35  226    1   11    3   37  108   14   32   76   95  258  234\n",
      "   21  182    6   26   52   74  104    2  424  105  137   86  139  229\n",
      "  221   68  109  360   33  909   51   38    9  240   98  115   88  224\n",
      "  183   92  261  118  251  294  205  406 1155  110   73  117   94   20\n",
      "   89  211  192  165   81   24  210   41  789   71  267   67  284    5\n",
      "  484  175  191  194  500   30  179  127  106   34  134  133  129  595\n",
      "  198  167  285   82  235  358  156  138  209   91   79  663  215  121\n",
      "  136  181  268   84  189  169  135  364  153  292  318  152  382  177\n",
      "  600   64  371  149  389  451  387  199  188  324   50  333  155   77\n",
      "  225  291  222  170  171  214  373  341  119  150  107  206  300   99\n",
      "  429  132  147  460  197  301   85  174  353  213  142  385  310  218\n",
      "  200   46   69  304  158  164  178  126  270  325  343  159  185  299\n",
      "  187   75  148  302  168  728  162  289  505  271  433  274  504  477\n",
      "  501  195  281  312  114   87  345  263   48  166  228  295  113  190\n",
      "  128  112  691  331  172  396  521  102  196  479  241  458  120  256\n",
      "  212  116  686  409  103  370  361  329  141  980  273  245  344  236\n",
      "  100  204  339  748  154  447  253  276  223  140  124  202  375  306\n",
      "  576  207  323  391  232  249  239  186  322  399  369  220  348  623\n",
      "  203  257  193  176  303  332  493  297  378  449  440  529  243  231\n",
      "  316  266  368  219  531  314  262  347  413  530  315  254 1140  590\n",
      "  305  307  144  278  350  384  317  721  259  558  290  321  184  414\n",
      "  359  238  515  499  216  404  561  233  666  352  587  475  419  379\n",
      "  275  287  351  393  346  403  489  448  381  398  487  453  434  668\n",
      "  244  308  363  248  328  280  260  320  628  366  326  562  246  357\n",
      "  313  265  508  365  402  230  277  374  480  377  311  392  503  397\n",
      "  340  335  657  237  719  252  547  336  524 1315  571  421  634  554\n",
      "  264  792  509  682  319  334  632  405  390  950 1565  513  496  667\n",
      "  575  293  356  422  671  469  436  283  432  838  465  452  679  712\n",
      "  445  430  519  563  483  514  354  435  327  355  539  431  450  627\n",
      "  443  907  535  461  330  765  338  578  528  342  395  923  612  886\n",
      "  574  580  418  337  408  444  372  388  495  889  456  788  523  727\n",
      "  502  386  476  492  564  296  605  525  362  577  637  737  482  446\n",
      " 1350  615  494 1032  557  442  832  478  793  464  644  490  518  420\n",
      "  546 1325  537  427  485  497  520  651  412  506  536  700  694  675\n",
      "  468  437  242  410  425  581  411  697  641  885  498  473  533  394\n",
      "  532  466  629  288  572  526  734  800  565  423  593  553  799  542\n",
      "  876  491  598 1884  645  714  401  770  439  349  566  512  824  614\n",
      "  417 1131  428  919 1003  905  545  736  674  710  415  751 1167  840\n",
      "  985  749  552  658  516 1049  426  400  510  797  438 1652  720  467\n",
      "  625 1865  621  586  441  416  407  784  849  626  527 1794  990  457\n",
      "  652  673  582  463  544 1508  747  724  507  798  579  756  630 1035\n",
      "  470  617 1011  698  969  585  472  647  864  592  620 1039  567  474\n",
      "  790  935  591  786  459  650  656  785  742  722  596  768  560 1376\n",
      "  383  602  471  723  559  808  713  486  517 1173  987  540  753 1220\n",
      " 1149 1138  636 1284  584  816 3119  718  887  965  689  841  454  611\n",
      " 1293  568  878  801 1490  758 1052  994  917  622  455  706  588  704\n",
      "  904 1186  725  717  543 1340  941  986 2572 1152  541  569  953  933\n",
      "  929  570  773  711 1766  730  481  613  707 1022  851  804  760  646\n",
      " 1116  874 1461  925  685 1209  936  772  759 1442  763  993  937  926\n",
      "  988  660  609 1158  940  771  589  583  608  750 1692  655  488  962\n",
      "  654  653 1080  681  642  678 2069 1425 1540 1053 2670 1246  604 2017\n",
      "  638  869  862  555 1192 1005  922 1021  859  814  821  548  767  879]\n",
      "812\n",
      "_______________________________\n"
     ]
    }
   ],
   "source": [
    "for i in data1.columns:\n",
    "    print(i)\n",
    "    print(data1[i].unique())\n",
    "    print(len(data1[i].unique()))\n",
    "    print(\"_______________________________\")"
   ]
  },
  {
   "cell_type": "code",
   "execution_count": 41,
   "metadata": {},
   "outputs": [],
   "source": [
    "def bar(x):\n",
    "    print(data1[x].value_counts().plot(kind=\"barh\",figsize=(15,10)))"
   ]
  },
  {
   "cell_type": "code",
   "execution_count": 42,
   "metadata": {},
   "outputs": [
    {
     "name": "stdout",
     "output_type": "stream",
     "text": [
      "AxesSubplot(0.125,0.125;0.775x0.755)\n"
     ]
    },
    {
     "data": {
      "image/png": "[encoded data removed]",
      "text/plain": [
       "<Figure size 1080x720 with 1 Axes>"
      ]
     },
     "metadata": {
      "needs_background": "light"
     },
     "output_type": "display_data"
    }
   ],
   "source": [
    "bar(\"Title\")"
   ]
  },
  {
   "cell_type": "code",
   "execution_count": 45,
   "metadata": {},
   "outputs": [
    {
     "data": {
      "text/plain": [
       "FM     28502\n",
       "IM     21892\n",
       "UNK    11523\n",
       "CD      5794\n",
       "END     1977\n",
       "Name: Specialty Code, dtype: int64"
      ]
     },
     "execution_count": 45,
     "metadata": {},
     "output_type": "execute_result"
    }
   ],
   "source": [
    "data1[\"Specialty Code\"].value_counts().head()"
   ]
  },
  {
   "cell_type": "code",
   "execution_count": 48,
   "metadata": {},
   "outputs": [
    {
     "data": {
      "text/plain": [
       "FAMILY MEDICINE            28511\n",
       "INTERNAL MEDICINE          21916\n",
       "UNKNOWN                    11523\n",
       "CARDIOVASCULAR DISEASES     6589\n",
       "ENDOCRINOLOGY               1977\n",
       "Name: Specialty Description, dtype: int64"
      ]
     },
     "execution_count": 48,
     "metadata": {},
     "output_type": "execute_result"
    }
   ],
   "source": [
    "data1[\"Specialty Description\"].value_counts().head()    #seems speciality code and description are same"
   ]
  },
  {
   "cell_type": "code",
   "execution_count": 50,
   "metadata": {},
   "outputs": [
    {
     "name": "stdout",
     "output_type": "stream",
     "text": [
      "AxesSubplot(0.125,0.125;0.775x0.755)\n"
     ]
    },
    {
     "data": {
      "image/png": "[encoded data removed]",
      "text/plain": [
       "<Figure size 1080x720 with 1 Axes>"
      ]
     },
     "metadata": {
      "needs_background": "light"
     },
     "output_type": "display_data"
    }
   ],
   "source": [
    "bar(\"State\")"
   ]
  },
  {
   "cell_type": "code",
   "execution_count": 51,
   "metadata": {},
   "outputs": [
    {
     "name": "stdout",
     "output_type": "stream",
     "text": [
      "AxesSubplot(0.125,0.125;0.775x0.755)\n"
     ]
    },
    {
     "data": {
      "image/png": "[encoded data removed]",
      "text/plain": [
       "<Figure size 1080x720 with 1 Axes>"
      ]
     },
     "metadata": {
      "needs_background": "light"
     },
     "output_type": "display_data"
    }
   ],
   "source": [
    "bar(\"Region\")"
   ]
  },
  {
   "cell_type": "code",
   "execution_count": 52,
   "metadata": {},
   "outputs": [
    {
     "data": {
      "text/plain": [
       "3    13039\n",
       "0    12971\n",
       "2    12966\n",
       "1    12907\n",
       "5    12889\n",
       "4    12869\n",
       "Name: Call Attempts, dtype: int64"
      ]
     },
     "execution_count": 52,
     "metadata": {},
     "output_type": "execute_result"
    }
   ],
   "source": [
    "data1[\"Call Attempts\"].value_counts()"
   ]
  },
  {
   "cell_type": "code",
   "execution_count": 53,
   "metadata": {},
   "outputs": [
    {
     "data": {
      "text/plain": [
       "0    32472\n",
       "2    12948\n",
       "1    12899\n",
       "3     9673\n",
       "4     6396\n",
       "5     3253\n",
       "Name: Calls Successfully Completed, dtype: int64"
      ]
     },
     "execution_count": 53,
     "metadata": {},
     "output_type": "execute_result"
    }
   ],
   "source": [
    "data1[\"Calls Successfully Completed\"].value_counts()"
   ]
  },
  {
   "cell_type": "code",
   "execution_count": 59,
   "metadata": {},
   "outputs": [
    {
     "name": "stdout",
     "output_type": "stream",
     "text": [
      "AxesSubplot(0.125,0.125;0.775x0.755)\n"
     ]
    },
    {
     "data": {
      "image/png": "[encoded data removed]",
      "text/plain": [
       "<Figure size 1080x720 with 1 Axes>"
      ]
     },
     "metadata": {
      "needs_background": "light"
     },
     "output_type": "display_data"
    }
   ],
   "source": [
    "bar(\"Emails Sent\")"
   ]
  },
  {
   "cell_type": "code",
   "execution_count": 60,
   "metadata": {},
   "outputs": [
    {
     "name": "stdout",
     "output_type": "stream",
     "text": [
      "AxesSubplot(0.125,0.125;0.775x0.755)\n"
     ]
    },
    {
     "data": {
      "image/png": "[encoded data removed]",
      "text/plain": [
       "<Figure size 1080x720 with 1 Axes>"
      ]
     },
     "metadata": {
      "needs_background": "light"
     },
     "output_type": "display_data"
    }
   ],
   "source": [
    "bar(\"Emails Opened\")"
   ]
  },
  {
   "cell_type": "code",
   "execution_count": 61,
   "metadata": {},
   "outputs": [
    {
     "name": "stdout",
     "output_type": "stream",
     "text": [
      "AxesSubplot(0.125,0.125;0.775x0.755)\n"
     ]
    },
    {
     "data": {
      "image/png": "[encoded data removed]",
      "text/plain": [
       "<Figure size 1080x720 with 1 Axes>"
      ]
     },
     "metadata": {
      "needs_background": "light"
     },
     "output_type": "display_data"
    }
   ],
   "source": [
    "bar(\"Faxes Sent\")"
   ]
  },
  {
   "cell_type": "code",
   "execution_count": 62,
   "metadata": {},
   "outputs": [],
   "source": [
    "# since there's one continous and category variale of 3 groups ,we perform anova\n",
    "import statsmodels.api as sm\n",
    "from statsmodels.formula.api import ols\n",
    "import scipy.stats as stats"
   ]
  },
  {
   "cell_type": "code",
   "execution_count": 63,
   "metadata": {},
   "outputs": [
    {
     "data": {
      "text/html": [
       "<div>\n",
       "<style scoped>\n",
       "    .dataframe tbody tr th:only-of-type {\n",
       "        vertical-align: middle;\n",
       "    }\n",
       "\n",
       "    .dataframe tbody tr th {\n",
       "        vertical-align: top;\n",
       "    }\n",
       "\n",
       "    .dataframe thead th {\n",
       "        text-align: right;\n",
       "    }\n",
       "</style>\n",
       "<table border=\"1\" class=\"dataframe\">\n",
       "  <thead>\n",
       "    <tr style=\"text-align: right;\">\n",
       "      <th></th>\n",
       "      <th>Customer ID</th>\n",
       "      <th>Title</th>\n",
       "      <th>Specialty Code</th>\n",
       "      <th>Specialty Description</th>\n",
       "      <th>State</th>\n",
       "      <th>Region</th>\n",
       "      <th>Call Attempts</th>\n",
       "      <th>Calls Successfully Completed</th>\n",
       "      <th>Emails Sent</th>\n",
       "      <th>Emails Opened</th>\n",
       "      <th>Faxes Sent</th>\n",
       "      <th>Brand 1 Sales (Company's Brand)</th>\n",
       "      <th>Brand 2 Sales (Competitor Brand)</th>\n",
       "      <th>Total Branded Market Sales</th>\n",
       "      <th>Total Market (Branded + Unbranded) Sales</th>\n",
       "    </tr>\n",
       "  </thead>\n",
       "  <tbody>\n",
       "    <tr>\n",
       "      <th>0</th>\n",
       "      <td>IND000001</td>\n",
       "      <td>MD</td>\n",
       "      <td>FM</td>\n",
       "      <td>FAMILY MEDICINE</td>\n",
       "      <td>SC</td>\n",
       "      <td>South Region</td>\n",
       "      <td>1</td>\n",
       "      <td>0</td>\n",
       "      <td>13</td>\n",
       "      <td>6</td>\n",
       "      <td>8</td>\n",
       "      <td>8.0</td>\n",
       "      <td>NaN</td>\n",
       "      <td>27</td>\n",
       "      <td>131</td>\n",
       "    </tr>\n",
       "    <tr>\n",
       "      <th>1</th>\n",
       "      <td>IND000002</td>\n",
       "      <td>MD</td>\n",
       "      <td>CD</td>\n",
       "      <td>CARDIOVASCULAR DISEASES</td>\n",
       "      <td>SC</td>\n",
       "      <td>South Region</td>\n",
       "      <td>1</td>\n",
       "      <td>0</td>\n",
       "      <td>15</td>\n",
       "      <td>8</td>\n",
       "      <td>6</td>\n",
       "      <td>3.0</td>\n",
       "      <td>NaN</td>\n",
       "      <td>40</td>\n",
       "      <td>56</td>\n",
       "    </tr>\n",
       "    <tr>\n",
       "      <th>2</th>\n",
       "      <td>IND000003</td>\n",
       "      <td>MD</td>\n",
       "      <td>IM</td>\n",
       "      <td>INTERNAL MEDICINE</td>\n",
       "      <td>AL</td>\n",
       "      <td>South Region</td>\n",
       "      <td>2</td>\n",
       "      <td>1</td>\n",
       "      <td>4</td>\n",
       "      <td>2</td>\n",
       "      <td>6</td>\n",
       "      <td>7.0</td>\n",
       "      <td>NaN</td>\n",
       "      <td>27</td>\n",
       "      <td>161</td>\n",
       "    </tr>\n",
       "    <tr>\n",
       "      <th>3</th>\n",
       "      <td>IND000004</td>\n",
       "      <td>MD</td>\n",
       "      <td>FM</td>\n",
       "      <td>FAMILY MEDICINE</td>\n",
       "      <td>AL</td>\n",
       "      <td>South Region</td>\n",
       "      <td>0</td>\n",
       "      <td>0</td>\n",
       "      <td>11</td>\n",
       "      <td>9</td>\n",
       "      <td>8</td>\n",
       "      <td>9.0</td>\n",
       "      <td>NaN</td>\n",
       "      <td>39</td>\n",
       "      <td>180</td>\n",
       "    </tr>\n",
       "    <tr>\n",
       "      <th>4</th>\n",
       "      <td>IND000005</td>\n",
       "      <td>MD</td>\n",
       "      <td>CD</td>\n",
       "      <td>CARDIOVASCULAR DISEASES</td>\n",
       "      <td>AL</td>\n",
       "      <td>South Region</td>\n",
       "      <td>5</td>\n",
       "      <td>5</td>\n",
       "      <td>0</td>\n",
       "      <td>0</td>\n",
       "      <td>9</td>\n",
       "      <td>4.0</td>\n",
       "      <td>NaN</td>\n",
       "      <td>14</td>\n",
       "      <td>44</td>\n",
       "    </tr>\n",
       "  </tbody>\n",
       "</table>\n",
       "</div>"
      ],
      "text/plain": [
       "  Customer ID Title Specialty Code    Specialty Description State  \\\n",
       "0   IND000001    MD             FM          FAMILY MEDICINE    SC   \n",
       "1   IND000002    MD             CD  CARDIOVASCULAR DISEASES    SC   \n",
       "2   IND000003    MD             IM        INTERNAL MEDICINE    AL   \n",
       "3   IND000004    MD             FM          FAMILY MEDICINE    AL   \n",
       "4   IND000005    MD             CD  CARDIOVASCULAR DISEASES    AL   \n",
       "\n",
       "         Region  Call Attempts  Calls Successfully Completed  Emails Sent  \\\n",
       "0  South Region              1                             0           13   \n",
       "1  South Region              1                             0           15   \n",
       "2  South Region              2                             1            4   \n",
       "3  South Region              0                             0           11   \n",
       "4  South Region              5                             5            0   \n",
       "\n",
       "   Emails Opened  Faxes Sent  Brand 1 Sales (Company's Brand)  \\\n",
       "0              6           8                              8.0   \n",
       "1              8           6                              3.0   \n",
       "2              2           6                              7.0   \n",
       "3              9           8                              9.0   \n",
       "4              0           9                              4.0   \n",
       "\n",
       "   Brand 2 Sales (Competitor Brand)  Total Branded Market Sales  \\\n",
       "0                               NaN                          27   \n",
       "1                               NaN                          40   \n",
       "2                               NaN                          27   \n",
       "3                               NaN                          39   \n",
       "4                               NaN                          14   \n",
       "\n",
       "   Total Market (Branded + Unbranded) Sales  \n",
       "0                                       131  \n",
       "1                                        56  \n",
       "2                                       161  \n",
       "3                                       180  \n",
       "4                                        44  "
      ]
     },
     "execution_count": 63,
     "metadata": {},
     "output_type": "execute_result"
    }
   ],
   "source": [
    "data1.head()"
   ]
  },
  {
   "cell_type": "code",
   "execution_count": 68,
   "metadata": {},
   "outputs": [],
   "source": [
    "data1.columns=['Customer ID', 'Title', 'Specialty_Code', 'Specialty_Description',\n",
    "       'State', 'Region', 'Call_Attempts', 'Calls_Successfully_Completed',\n",
    "       'Emails_Sent', 'Emails_Opened', 'Faxes_Sent',\n",
    "       'Brand_1_Sales_(Company_Brand)', 'Brand_2_Sales_(Competitor_Brand)',\n",
    "       'Total_Branded_Market_Sales',\n",
    "       'Total_Market_(Branded+Unbranded)_Sales']"
   ]
  },
  {
   "cell_type": "code",
   "execution_count": 73,
   "metadata": {},
   "outputs": [],
   "source": [
    "# checking if there any significance difference between total branded market sales and following features"
   ]
  },
  {
   "cell_type": "code",
   "execution_count": 70,
   "metadata": {},
   "outputs": [
    {
     "name": "stdout",
     "output_type": "stream",
     "text": [
      "                     sum_sq       df          F        PR(>F)\n",
      "Call_Attempts  2.043016e+04      1.0  88.116929  6.329385e-21\n",
      "Residual       1.800083e+07  77639.0        NaN           NaN\n"
     ]
    }
   ],
   "source": [
    "import statsmodels.api as sm\n",
    "from statsmodels.formula.api import ols\n",
    " \n",
    "mod = ols('Total_Branded_Market_Sales ~ Call_Attempts',\n",
    "                data=data1).fit()\n",
    "                \n",
    "aov_table = sm.stats.anova_lm(mod, typ=2)\n",
    "print (aov_table)"
   ]
  },
  {
   "cell_type": "code",
   "execution_count": 71,
   "metadata": {},
   "outputs": [
    {
     "name": "stdout",
     "output_type": "stream",
     "text": [
      "                                    sum_sq       df           F        PR(>F)\n",
      "Calls_Successfully_Completed  5.394225e+04      1.0  233.091187  1.505576e-52\n",
      "Residual                      1.796731e+07  77639.0         NaN           NaN\n"
     ]
    }
   ],
   "source": [
    "import statsmodels.api as sm\n",
    "from statsmodels.formula.api import ols\n",
    " \n",
    "mod = ols('Total_Branded_Market_Sales ~ Calls_Successfully_Completed',\n",
    "                data=data1).fit()\n",
    "                \n",
    "aov_table = sm.stats.anova_lm(mod, typ=2)\n",
    "print (aov_table)"
   ]
  },
  {
   "cell_type": "code",
   "execution_count": 72,
   "metadata": {},
   "outputs": [
    {
     "name": "stdout",
     "output_type": "stream",
     "text": [
      "                   sum_sq       df           F        PR(>F)\n",
      "Emails_Sent  5.317261e+04      1.0  229.755632  7.997436e-52\n",
      "Residual     1.796808e+07  77639.0         NaN           NaN\n"
     ]
    }
   ],
   "source": [
    "import statsmodels.api as sm\n",
    "from statsmodels.formula.api import ols\n",
    " \n",
    "mod = ols('Total_Branded_Market_Sales ~ Emails_Sent',\n",
    "                data=data1).fit()\n",
    "                \n",
    "aov_table = sm.stats.anova_lm(mod, typ=2)\n",
    "print (aov_table)"
   ]
  },
  {
   "cell_type": "code",
   "execution_count": 74,
   "metadata": {},
   "outputs": [
    {
     "name": "stdout",
     "output_type": "stream",
     "text": [
      "Collecting geopandas==0.3.0\n",
      "  Downloading https://files.pythonhosted.org/packages/0a/0e/8ae74743ed7915ddb7d70cc8dfa8fc0b9b9cc81205c6e288a01915a46192/geopandas-0.3.0-py2.py3-none-any.whl (888kB)\n",
      "Collecting fiona (from geopandas==0.3.0)\n",
      "  Downloading https://files.pythonhosted.org/packages/41/9d/63696e7b1de42aad294d4781199a408bec593d8fdb80a2b4a788c911a33b/Fiona-1.8.6.tar.gz (1.7MB)\n",
      "    Complete output from command python setup.py egg_info:\n",
      "    A GDAL API version must be specified. Provide a path to gdal-config using a GDAL_CONFIG environment variable or use a GDAL_VERSION environment variable.\n",
      "    \n",
      "    ----------------------------------------\n"
     ]
    },
    {
     "name": "stderr",
     "output_type": "stream",
     "text": [
      "Command \"python setup.py egg_info\" failed with error code 1 in C:\\Users\\SREEKA~1\\AppData\\Local\\Temp\\pip-install-sse8om_u\\fiona\\\n"
     ]
    },
    {
     "name": "stdout",
     "output_type": "stream",
     "text": [
      "Collecting pyshp==1.2.10\n",
      "  Downloading https://files.pythonhosted.org/packages/c2/cc/1851049f2740d09c7bd8e4b464b1b78638723f6173e71d44aea12deca1f8/pyshp-1.2.10.tar.gz (176kB)\n",
      "Building wheels for collected packages: pyshp\n",
      "  Building wheel for pyshp (setup.py): started\n",
      "  Building wheel for pyshp (setup.py): finished with status 'done'\n",
      "  Stored in directory: C:\\Users\\sreekar chidurala\\AppData\\Local\\pip\\Cache\\wheels\\ba\\1a\\67\\6a12977f362c33a15edc753daf92c6f01879dbf4db76faf0dd\n",
      "Successfully built pyshp\n",
      "Installing collected packages: pyshp\n",
      "Successfully installed pyshp-1.2.10\n",
      "Collecting shapely==1.6.3\n",
      "  Downloading https://files.pythonhosted.org/packages/c0/10/1457c46e20b509108a32a5776141d78d410161dae8ab8da74efe67c530eb/Shapely-1.6.3.tar.gz (223kB)\n",
      "    Complete output from command python setup.py egg_info:\n",
      "    Traceback (most recent call last):\n",
      "      File \"<string>\", line 1, in <module>\n",
      "      File \"C:\\Users\\SREEKA~1\\AppData\\Local\\Temp\\pip-install-4lqy0isr\\shapely\\setup.py\", line 80, in <module>\n",
      "        from shapely._buildcfg import geos_version_string, geos_version, \\\n",
      "      File \"C:\\Users\\SREEKA~1\\AppData\\Local\\Temp\\pip-install-4lqy0isr\\shapely\\shapely\\_buildcfg.py\", line 200, in <module>\n",
      "        lgeos = CDLL(\"geos_c.dll\")\n",
      "      File \"c:\\users\\sreekar chidurala\\anaconda3\\envs\\sreekar\\lib\\ctypes\\__init__.py\", line 348, in __init__\n",
      "        self._handle = _dlopen(self._name, mode)\n",
      "    OSError: [WinError 126] The specified module could not be found\n",
      "    \n",
      "    ----------------------------------------\n"
     ]
    },
    {
     "name": "stderr",
     "output_type": "stream",
     "text": [
      "Command \"python setup.py egg_info\" failed with error code 1 in C:\\Users\\SREEKA~1\\AppData\\Local\\Temp\\pip-install-4lqy0isr\\shapely\\\n"
     ]
    }
   ],
   "source": [
    "!pip install geopandas==0.3.0\n",
    "!pip install pyshp==1.2.10\n",
    "!pip install shapely==1.6.3\n"
   ]
  },
  {
   "cell_type": "code",
   "execution_count": 75,
   "metadata": {},
   "outputs": [
    {
     "data": {
      "text/html": [
       "<div>\n",
       "<style scoped>\n",
       "    .dataframe tbody tr th:only-of-type {\n",
       "        vertical-align: middle;\n",
       "    }\n",
       "\n",
       "    .dataframe tbody tr th {\n",
       "        vertical-align: top;\n",
       "    }\n",
       "\n",
       "    .dataframe thead th {\n",
       "        text-align: right;\n",
       "    }\n",
       "</style>\n",
       "<table border=\"1\" class=\"dataframe\">\n",
       "  <thead>\n",
       "    <tr style=\"text-align: right;\">\n",
       "      <th></th>\n",
       "      <th>Customer ID</th>\n",
       "      <th>Title</th>\n",
       "      <th>Specialty_Code</th>\n",
       "      <th>Specialty_Description</th>\n",
       "      <th>State</th>\n",
       "      <th>Region</th>\n",
       "      <th>Call_Attempts</th>\n",
       "      <th>Calls_Successfully_Completed</th>\n",
       "      <th>Emails_Sent</th>\n",
       "      <th>Emails_Opened</th>\n",
       "      <th>Faxes_Sent</th>\n",
       "      <th>Brand_1_Sales_(Company_Brand)</th>\n",
       "      <th>Brand_2_Sales_(Competitor_Brand)</th>\n",
       "      <th>Total_Branded_Market_Sales</th>\n",
       "      <th>Total_Market_(Branded+Unbranded)_Sales</th>\n",
       "    </tr>\n",
       "  </thead>\n",
       "  <tbody>\n",
       "    <tr>\n",
       "      <th>0</th>\n",
       "      <td>IND000001</td>\n",
       "      <td>MD</td>\n",
       "      <td>FM</td>\n",
       "      <td>FAMILY MEDICINE</td>\n",
       "      <td>SC</td>\n",
       "      <td>South Region</td>\n",
       "      <td>1</td>\n",
       "      <td>0</td>\n",
       "      <td>13</td>\n",
       "      <td>6</td>\n",
       "      <td>8</td>\n",
       "      <td>8.0</td>\n",
       "      <td>NaN</td>\n",
       "      <td>27</td>\n",
       "      <td>131</td>\n",
       "    </tr>\n",
       "    <tr>\n",
       "      <th>1</th>\n",
       "      <td>IND000002</td>\n",
       "      <td>MD</td>\n",
       "      <td>CD</td>\n",
       "      <td>CARDIOVASCULAR DISEASES</td>\n",
       "      <td>SC</td>\n",
       "      <td>South Region</td>\n",
       "      <td>1</td>\n",
       "      <td>0</td>\n",
       "      <td>15</td>\n",
       "      <td>8</td>\n",
       "      <td>6</td>\n",
       "      <td>3.0</td>\n",
       "      <td>NaN</td>\n",
       "      <td>40</td>\n",
       "      <td>56</td>\n",
       "    </tr>\n",
       "    <tr>\n",
       "      <th>2</th>\n",
       "      <td>IND000003</td>\n",
       "      <td>MD</td>\n",
       "      <td>IM</td>\n",
       "      <td>INTERNAL MEDICINE</td>\n",
       "      <td>AL</td>\n",
       "      <td>South Region</td>\n",
       "      <td>2</td>\n",
       "      <td>1</td>\n",
       "      <td>4</td>\n",
       "      <td>2</td>\n",
       "      <td>6</td>\n",
       "      <td>7.0</td>\n",
       "      <td>NaN</td>\n",
       "      <td>27</td>\n",
       "      <td>161</td>\n",
       "    </tr>\n",
       "    <tr>\n",
       "      <th>3</th>\n",
       "      <td>IND000004</td>\n",
       "      <td>MD</td>\n",
       "      <td>FM</td>\n",
       "      <td>FAMILY MEDICINE</td>\n",
       "      <td>AL</td>\n",
       "      <td>South Region</td>\n",
       "      <td>0</td>\n",
       "      <td>0</td>\n",
       "      <td>11</td>\n",
       "      <td>9</td>\n",
       "      <td>8</td>\n",
       "      <td>9.0</td>\n",
       "      <td>NaN</td>\n",
       "      <td>39</td>\n",
       "      <td>180</td>\n",
       "    </tr>\n",
       "    <tr>\n",
       "      <th>4</th>\n",
       "      <td>IND000005</td>\n",
       "      <td>MD</td>\n",
       "      <td>CD</td>\n",
       "      <td>CARDIOVASCULAR DISEASES</td>\n",
       "      <td>AL</td>\n",
       "      <td>South Region</td>\n",
       "      <td>5</td>\n",
       "      <td>5</td>\n",
       "      <td>0</td>\n",
       "      <td>0</td>\n",
       "      <td>9</td>\n",
       "      <td>4.0</td>\n",
       "      <td>NaN</td>\n",
       "      <td>14</td>\n",
       "      <td>44</td>\n",
       "    </tr>\n",
       "  </tbody>\n",
       "</table>\n",
       "</div>"
      ],
      "text/plain": [
       "  Customer ID Title Specialty_Code    Specialty_Description State  \\\n",
       "0   IND000001    MD             FM          FAMILY MEDICINE    SC   \n",
       "1   IND000002    MD             CD  CARDIOVASCULAR DISEASES    SC   \n",
       "2   IND000003    MD             IM        INTERNAL MEDICINE    AL   \n",
       "3   IND000004    MD             FM          FAMILY MEDICINE    AL   \n",
       "4   IND000005    MD             CD  CARDIOVASCULAR DISEASES    AL   \n",
       "\n",
       "         Region  Call_Attempts  Calls_Successfully_Completed  Emails_Sent  \\\n",
       "0  South Region              1                             0           13   \n",
       "1  South Region              1                             0           15   \n",
       "2  South Region              2                             1            4   \n",
       "3  South Region              0                             0           11   \n",
       "4  South Region              5                             5            0   \n",
       "\n",
       "   Emails_Opened  Faxes_Sent  Brand_1_Sales_(Company_Brand)  \\\n",
       "0              6           8                            8.0   \n",
       "1              8           6                            3.0   \n",
       "2              2           6                            7.0   \n",
       "3              9           8                            9.0   \n",
       "4              0           9                            4.0   \n",
       "\n",
       "   Brand_2_Sales_(Competitor_Brand)  Total_Branded_Market_Sales  \\\n",
       "0                               NaN                          27   \n",
       "1                               NaN                          40   \n",
       "2                               NaN                          27   \n",
       "3                               NaN                          39   \n",
       "4                               NaN                          14   \n",
       "\n",
       "   Total_Market_(Branded+Unbranded)_Sales  \n",
       "0                                     131  \n",
       "1                                      56  \n",
       "2                                     161  \n",
       "3                                     180  \n",
       "4                                      44  "
      ]
     },
     "execution_count": 75,
     "metadata": {},
     "output_type": "execute_result"
    }
   ],
   "source": [
    "data1.head()"
   ]
  },
  {
   "cell_type": "code",
   "execution_count": null,
   "metadata": {},
   "outputs": [],
   "source": [
    "# lets build a predictive model"
   ]
  },
  {
   "cell_type": "code",
   "execution_count": 77,
   "metadata": {},
   "outputs": [
    {
     "data": {
      "text/plain": [
       "Region            State\n",
       "Midwest Region    OH       3369\n",
       "                  IL       3089\n",
       "                  MI       3065\n",
       "                  IN       1911\n",
       "                  WI       1732\n",
       "                  MO       1445\n",
       "                  IA        909\n",
       "                  MN        851\n",
       "                  KS        826\n",
       "                  NE        597\n",
       "                  SD        214\n",
       "                  ND        193\n",
       "Northeast Region  NY       5065\n",
       "                  PA       4076\n",
       "                  NJ       2747\n",
       "                  MA       1389\n",
       "                  CT       1123\n",
       "                  RI        343\n",
       "                  NH        338\n",
       "                  ME        337\n",
       "                  VT        148\n",
       "South Region      TX       5971\n",
       "                  FL       5005\n",
       "                  NC       2526\n",
       "                  GA       2334\n",
       "                  TN       1914\n",
       "                  VA       1791\n",
       "                  KY       1526\n",
       "                  MD       1279\n",
       "                  LA       1178\n",
       "                  SC       1110\n",
       "                  AL       1090\n",
       "                  OK        902\n",
       "                  WV        771\n",
       "                  MS        709\n",
       "                  AR        658\n",
       "                  DE        348\n",
       "West Region       CA       6413\n",
       "                  AZ       1581\n",
       "                  WA       1299\n",
       "                  CO        920\n",
       "                  UT        654\n",
       "                  OR        641\n",
       "                  NV        547\n",
       "                  ID        358\n",
       "                  NM        358\n",
       "                  HI        222\n",
       "                  MT        208\n",
       "                  WY        105\n",
       "                  AK         95\n",
       "Name: State, dtype: int64"
      ]
     },
     "execution_count": 77,
     "metadata": {},
     "output_type": "execute_result"
    }
   ],
   "source": [
    "data1.groupby(\"Region\")[\"State\"].value_counts()"
   ]
  },
  {
   "cell_type": "code",
   "execution_count": 89,
   "metadata": {},
   "outputs": [],
   "source": [
    "df=data1.iloc[:,1:12]"
   ]
  },
  {
   "cell_type": "code",
   "execution_count": 90,
   "metadata": {},
   "outputs": [
    {
     "data": {
      "text/html": [
       "<div>\n",
       "<style scoped>\n",
       "    .dataframe tbody tr th:only-of-type {\n",
       "        vertical-align: middle;\n",
       "    }\n",
       "\n",
       "    .dataframe tbody tr th {\n",
       "        vertical-align: top;\n",
       "    }\n",
       "\n",
       "    .dataframe thead th {\n",
       "        text-align: right;\n",
       "    }\n",
       "</style>\n",
       "<table border=\"1\" class=\"dataframe\">\n",
       "  <thead>\n",
       "    <tr style=\"text-align: right;\">\n",
       "      <th></th>\n",
       "      <th>Title</th>\n",
       "      <th>Specialty_Code</th>\n",
       "      <th>Specialty_Description</th>\n",
       "      <th>State</th>\n",
       "      <th>Region</th>\n",
       "      <th>Call_Attempts</th>\n",
       "      <th>Calls_Successfully_Completed</th>\n",
       "      <th>Emails_Sent</th>\n",
       "      <th>Emails_Opened</th>\n",
       "      <th>Faxes_Sent</th>\n",
       "      <th>Brand_1_Sales_(Company_Brand)</th>\n",
       "    </tr>\n",
       "  </thead>\n",
       "  <tbody>\n",
       "    <tr>\n",
       "      <th>0</th>\n",
       "      <td>MD</td>\n",
       "      <td>FM</td>\n",
       "      <td>FAMILY MEDICINE</td>\n",
       "      <td>SC</td>\n",
       "      <td>South Region</td>\n",
       "      <td>1</td>\n",
       "      <td>0</td>\n",
       "      <td>13</td>\n",
       "      <td>6</td>\n",
       "      <td>8</td>\n",
       "      <td>8.0</td>\n",
       "    </tr>\n",
       "    <tr>\n",
       "      <th>1</th>\n",
       "      <td>MD</td>\n",
       "      <td>CD</td>\n",
       "      <td>CARDIOVASCULAR DISEASES</td>\n",
       "      <td>SC</td>\n",
       "      <td>South Region</td>\n",
       "      <td>1</td>\n",
       "      <td>0</td>\n",
       "      <td>15</td>\n",
       "      <td>8</td>\n",
       "      <td>6</td>\n",
       "      <td>3.0</td>\n",
       "    </tr>\n",
       "    <tr>\n",
       "      <th>2</th>\n",
       "      <td>MD</td>\n",
       "      <td>IM</td>\n",
       "      <td>INTERNAL MEDICINE</td>\n",
       "      <td>AL</td>\n",
       "      <td>South Region</td>\n",
       "      <td>2</td>\n",
       "      <td>1</td>\n",
       "      <td>4</td>\n",
       "      <td>2</td>\n",
       "      <td>6</td>\n",
       "      <td>7.0</td>\n",
       "    </tr>\n",
       "    <tr>\n",
       "      <th>3</th>\n",
       "      <td>MD</td>\n",
       "      <td>FM</td>\n",
       "      <td>FAMILY MEDICINE</td>\n",
       "      <td>AL</td>\n",
       "      <td>South Region</td>\n",
       "      <td>0</td>\n",
       "      <td>0</td>\n",
       "      <td>11</td>\n",
       "      <td>9</td>\n",
       "      <td>8</td>\n",
       "      <td>9.0</td>\n",
       "    </tr>\n",
       "    <tr>\n",
       "      <th>4</th>\n",
       "      <td>MD</td>\n",
       "      <td>CD</td>\n",
       "      <td>CARDIOVASCULAR DISEASES</td>\n",
       "      <td>AL</td>\n",
       "      <td>South Region</td>\n",
       "      <td>5</td>\n",
       "      <td>5</td>\n",
       "      <td>0</td>\n",
       "      <td>0</td>\n",
       "      <td>9</td>\n",
       "      <td>4.0</td>\n",
       "    </tr>\n",
       "  </tbody>\n",
       "</table>\n",
       "</div>"
      ],
      "text/plain": [
       "  Title Specialty_Code    Specialty_Description State        Region  \\\n",
       "0    MD             FM          FAMILY MEDICINE    SC  South Region   \n",
       "1    MD             CD  CARDIOVASCULAR DISEASES    SC  South Region   \n",
       "2    MD             IM        INTERNAL MEDICINE    AL  South Region   \n",
       "3    MD             FM          FAMILY MEDICINE    AL  South Region   \n",
       "4    MD             CD  CARDIOVASCULAR DISEASES    AL  South Region   \n",
       "\n",
       "   Call_Attempts  Calls_Successfully_Completed  Emails_Sent  Emails_Opened  \\\n",
       "0              1                             0           13              6   \n",
       "1              1                             0           15              8   \n",
       "2              2                             1            4              2   \n",
       "3              0                             0           11              9   \n",
       "4              5                             5            0              0   \n",
       "\n",
       "   Faxes_Sent  Brand_1_Sales_(Company_Brand)  \n",
       "0           8                            8.0  \n",
       "1           6                            3.0  \n",
       "2           6                            7.0  \n",
       "3           8                            9.0  \n",
       "4           9                            4.0  "
      ]
     },
     "execution_count": 90,
     "metadata": {},
     "output_type": "execute_result"
    }
   ],
   "source": [
    "df.head()"
   ]
  },
  {
   "cell_type": "code",
   "execution_count": 96,
   "metadata": {},
   "outputs": [],
   "source": []
  },
  {
   "cell_type": "code",
   "execution_count": 100,
   "metadata": {},
   "outputs": [],
   "source": [
    "df=df.drop(labels=\"Specialty_Description\",axis=1)"
   ]
  },
  {
   "cell_type": "code",
   "execution_count": 101,
   "metadata": {},
   "outputs": [],
   "source": [
    "for feature in df.columns: # Loop through all columns in the dataframe\n",
    "    if df[feature].dtype == 'object': # Only apply for columns with categorical strings\n",
    "        df[feature] = pd.Categorical(df[feature]).codes"
   ]
  },
  {
   "cell_type": "code",
   "execution_count": 102,
   "metadata": {},
   "outputs": [
    {
     "data": {
      "text/html": [
       "<div>\n",
       "<style scoped>\n",
       "    .dataframe tbody tr th:only-of-type {\n",
       "        vertical-align: middle;\n",
       "    }\n",
       "\n",
       "    .dataframe tbody tr th {\n",
       "        vertical-align: top;\n",
       "    }\n",
       "\n",
       "    .dataframe thead th {\n",
       "        text-align: right;\n",
       "    }\n",
       "</style>\n",
       "<table border=\"1\" class=\"dataframe\">\n",
       "  <thead>\n",
       "    <tr style=\"text-align: right;\">\n",
       "      <th></th>\n",
       "      <th>Title</th>\n",
       "      <th>Specialty_Code</th>\n",
       "      <th>State</th>\n",
       "      <th>Region</th>\n",
       "      <th>Call_Attempts</th>\n",
       "      <th>Calls_Successfully_Completed</th>\n",
       "      <th>Emails_Sent</th>\n",
       "      <th>Emails_Opened</th>\n",
       "      <th>Faxes_Sent</th>\n",
       "      <th>Brand_1_Sales_(Company_Brand)</th>\n",
       "    </tr>\n",
       "  </thead>\n",
       "  <tbody>\n",
       "    <tr>\n",
       "      <th>0</th>\n",
       "      <td>26</td>\n",
       "      <td>33</td>\n",
       "      <td>43</td>\n",
       "      <td>2</td>\n",
       "      <td>1</td>\n",
       "      <td>0</td>\n",
       "      <td>13</td>\n",
       "      <td>6</td>\n",
       "      <td>8</td>\n",
       "      <td>8.0</td>\n",
       "    </tr>\n",
       "    <tr>\n",
       "      <th>1</th>\n",
       "      <td>26</td>\n",
       "      <td>15</td>\n",
       "      <td>43</td>\n",
       "      <td>2</td>\n",
       "      <td>1</td>\n",
       "      <td>0</td>\n",
       "      <td>15</td>\n",
       "      <td>8</td>\n",
       "      <td>6</td>\n",
       "      <td>3.0</td>\n",
       "    </tr>\n",
       "    <tr>\n",
       "      <th>2</th>\n",
       "      <td>26</td>\n",
       "      <td>61</td>\n",
       "      <td>2</td>\n",
       "      <td>2</td>\n",
       "      <td>2</td>\n",
       "      <td>1</td>\n",
       "      <td>4</td>\n",
       "      <td>2</td>\n",
       "      <td>6</td>\n",
       "      <td>7.0</td>\n",
       "    </tr>\n",
       "    <tr>\n",
       "      <th>3</th>\n",
       "      <td>26</td>\n",
       "      <td>33</td>\n",
       "      <td>2</td>\n",
       "      <td>2</td>\n",
       "      <td>0</td>\n",
       "      <td>0</td>\n",
       "      <td>11</td>\n",
       "      <td>9</td>\n",
       "      <td>8</td>\n",
       "      <td>9.0</td>\n",
       "    </tr>\n",
       "    <tr>\n",
       "      <th>4</th>\n",
       "      <td>26</td>\n",
       "      <td>15</td>\n",
       "      <td>2</td>\n",
       "      <td>2</td>\n",
       "      <td>5</td>\n",
       "      <td>5</td>\n",
       "      <td>0</td>\n",
       "      <td>0</td>\n",
       "      <td>9</td>\n",
       "      <td>4.0</td>\n",
       "    </tr>\n",
       "  </tbody>\n",
       "</table>\n",
       "</div>"
      ],
      "text/plain": [
       "   Title  Specialty_Code  State  Region  Call_Attempts  \\\n",
       "0     26              33     43       2              1   \n",
       "1     26              15     43       2              1   \n",
       "2     26              61      2       2              2   \n",
       "3     26              33      2       2              0   \n",
       "4     26              15      2       2              5   \n",
       "\n",
       "   Calls_Successfully_Completed  Emails_Sent  Emails_Opened  Faxes_Sent  \\\n",
       "0                             0           13              6           8   \n",
       "1                             0           15              8           6   \n",
       "2                             1            4              2           6   \n",
       "3                             0           11              9           8   \n",
       "4                             5            0              0           9   \n",
       "\n",
       "   Brand_1_Sales_(Company_Brand)  \n",
       "0                            8.0  \n",
       "1                            3.0  \n",
       "2                            7.0  \n",
       "3                            9.0  \n",
       "4                            4.0  "
      ]
     },
     "execution_count": 102,
     "metadata": {},
     "output_type": "execute_result"
    }
   ],
   "source": [
    "df.head()"
   ]
  },
  {
   "cell_type": "code",
   "execution_count": 104,
   "metadata": {},
   "outputs": [],
   "source": [
    "#missing value treat ment for brand1 sales\n",
    "df[\"Brand_1_Sales_(Company_Brand)\"].fillna(df.groupby(\"Title\")[\"Brand_1_Sales_(Company_Brand)\"].transform(\"median\"), inplace=True)\n"
   ]
  },
  {
   "cell_type": "code",
   "execution_count": 105,
   "metadata": {},
   "outputs": [],
   "source": [
    "from sklearn.model_selection import train_test_split\n",
    "\n",
    "X_train, X_test, y_train, y_test = train_test_split(df.iloc[:,0:9],df[\"Brand_1_Sales_(Company_Brand)\"], test_size=0.2, random_state=0)"
   ]
  },
  {
   "cell_type": "code",
   "execution_count": 107,
   "metadata": {},
   "outputs": [],
   "source": [
    "from sklearn.ensemble import GradientBoostingClassifier\n",
    "gbcl = GradientBoostingClassifier(n_estimators = 50, random_state=1)\n",
    "gbcl = gbcl.fit(X_train, y_train)"
   ]
  },
  {
   "cell_type": "code",
   "execution_count": 110,
   "metadata": {},
   "outputs": [
    {
     "data": {
      "text/plain": [
       "0.47903921694893425"
      ]
     },
     "execution_count": 110,
     "metadata": {},
     "output_type": "execute_result"
    }
   ],
   "source": [
    "from sklearn.metrics import accuracy_score\n",
    "predicted_labels = gbcl.predict(X_test)\n",
    "gbcl.score(X_test,y_test)"
   ]
  },
  {
   "cell_type": "code",
   "execution_count": 116,
   "metadata": {},
   "outputs": [
    {
     "data": {
      "text/plain": [
       "RandomForestRegressor(bootstrap=True, criterion='mse', max_depth=None,\n",
       "           max_features='auto', max_leaf_nodes=None,\n",
       "           min_impurity_decrease=0.0, min_impurity_split=None,\n",
       "           min_samples_leaf=1, min_samples_split=2,\n",
       "           min_weight_fraction_leaf=0.0, n_estimators=200, n_jobs=-1,\n",
       "           oob_score=False, random_state=123, verbose=0, warm_start=False)"
      ]
     },
     "execution_count": 116,
     "metadata": {},
     "output_type": "execute_result"
    }
   ],
   "source": [
    "from sklearn.ensemble import RandomForestRegressor\n",
    "model_full_rf = RandomForestRegressor(n_estimators=200, random_state=123, n_jobs=-1)\n",
    "model_full_rf.fit(X_train, y_train)"
   ]
  },
  {
   "cell_type": "code",
   "execution_count": 117,
   "metadata": {},
   "outputs": [
    {
     "data": {
      "text/plain": [
       "0.4058253913882703"
      ]
     },
     "execution_count": 117,
     "metadata": {},
     "output_type": "execute_result"
    }
   ],
   "source": [
    "model_full_rf.score(X_test,y_test)"
   ]
  },
  {
   "cell_type": "code",
   "execution_count": null,
   "metadata": {},
   "outputs": [],
   "source": []
  }
 ],
 "metadata": {
  "kernelspec": {
   "display_name": "Python 3",
   "language": "python",
   "name": "python3"
  },
  "language_info": {
   "codemirror_mode": {
    "name": "ipython",
    "version": 3
   },
   "file_extension": ".py",
   "mimetype": "text/x-python",
   "name": "python",
   "nbconvert_exporter": "python",
   "pygments_lexer": "ipython3",
   "version": "3.6.7"
  }
 },
 "nbformat": 4,
 "nbformat_minor": 2
}
